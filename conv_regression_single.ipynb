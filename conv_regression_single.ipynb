{
  "cells": [
    {
      "cell_type": "markdown",
      "metadata": {
        "id": "view-in-github",
        "colab_type": "text"
      },
      "source": [
        "<a href=\"https://colab.research.google.com/github/avva14/image_generators/blob/main/conv_regression_single.ipynb\" target=\"_parent\"><img src=\"https://colab.research.google.com/assets/colab-badge.svg\" alt=\"Open In Colab\"/></a>"
      ]
    },
    {
      "cell_type": "markdown",
      "metadata": {
        "id": "7o8gfEJnIecg"
      },
      "source": [
        "## Imports"
      ]
    },
    {
      "cell_type": "code",
      "execution_count": null,
      "metadata": {
        "id": "vnXNwXwVIb6b"
      },
      "outputs": [],
      "source": [
        "!pip install pillow --upgrade"
      ]
    },
    {
      "cell_type": "code",
      "execution_count": null,
      "metadata": {
        "id": "QkO7fIPyIkiI"
      },
      "outputs": [],
      "source": [
        "!git clone https://github.com/avva14/common_utils.git"
      ]
    },
    {
      "cell_type": "code",
      "execution_count": null,
      "metadata": {
        "id": "eaGUrpc7IklE"
      },
      "outputs": [],
      "source": [
        "from google.colab import drive\n",
        "drive.mount('/content/gdrive')"
      ]
    },
    {
      "cell_type": "code",
      "execution_count": null,
      "metadata": {
        "id": "L51et3UZIkn0"
      },
      "outputs": [],
      "source": [
        "PATH_TO_TFDS = '/content/gdrive/MyDrive/tensorflow_datasets'\n",
        "PATH_TO_MODELS = '/content/gdrive/MyDrive/models/moire'\n",
        "PATH_TO_MOIRE = '/content/gdrive/MyDrive/Patterns/moiredata'"
      ]
    },
    {
      "cell_type": "code",
      "execution_count": null,
      "metadata": {
        "id": "KxwYYU5lIkqi"
      },
      "outputs": [],
      "source": [
        "import os\n",
        "import numpy as np\n",
        "import cv2 as cv"
      ]
    },
    {
      "cell_type": "code",
      "execution_count": null,
      "metadata": {
        "id": "bebCia9YIktq"
      },
      "outputs": [],
      "source": [
        "import zipfile\n",
        "from zipfile import ZipFile"
      ]
    },
    {
      "cell_type": "code",
      "execution_count": null,
      "metadata": {
        "id": "eKsIgq10JYoZ"
      },
      "outputs": [],
      "source": [
        "import matplotlib.pyplot as plt\n",
        "from matplotlib.patches import Rectangle\n",
        "from math import ceil"
      ]
    },
    {
      "cell_type": "code",
      "execution_count": null,
      "metadata": {
        "id": "A1lK3Ay8JYrU"
      },
      "outputs": [],
      "source": [
        "import tensorflow as tf\n",
        "import tensorflow_datasets as tfds"
      ]
    },
    {
      "cell_type": "code",
      "execution_count": null,
      "metadata": {
        "id": "Tre44uKPJYtz"
      },
      "outputs": [],
      "source": []
    },
    {
      "cell_type": "markdown",
      "metadata": {
        "id": "-zUAs3zVJeR5"
      },
      "source": [
        "## Parameters"
      ]
    },
    {
      "cell_type": "code",
      "execution_count": null,
      "metadata": {
        "id": "fAYFEYwAJgkq"
      },
      "outputs": [],
      "source": [
        "ds = tfds.load('mnist', data_dir=PATH_TO_TFDS, download=False, split=['train', 'test'], shuffle_files=True)\n",
        "train_set = ds[0].cache().shuffle(1024).repeat().as_numpy_iterator()\n",
        "test_set = ds[1].cache().repeat().as_numpy_iterator()"
      ]
    },
    {
      "cell_type": "code",
      "execution_count": null,
      "metadata": {
        "id": "aZ9orpXuJgnW"
      },
      "outputs": [],
      "source": [
        "rng = np.random.RandomState(1)"
      ]
    },
    {
      "cell_type": "code",
      "execution_count": null,
      "metadata": {
        "id": "MJM3ba3gJgp6"
      },
      "outputs": [],
      "source": [
        "SIZE = 208\n",
        "MNSZ = 28\n",
        "MAX_NOISE = 0.5\n",
        "num_classes = 10"
      ]
    },
    {
      "cell_type": "code",
      "execution_count": null,
      "metadata": {
        "id": "39dFFloLJxfJ"
      },
      "outputs": [],
      "source": [
        "moirefiles = [os.path.join(PATH_TO_MOIRE, f) for f in os.listdir(PATH_TO_MOIRE)]"
      ]
    },
    {
      "cell_type": "code",
      "execution_count": null,
      "metadata": {
        "id": "joWY70l8JxiS"
      },
      "outputs": [],
      "source": [
        "from common_utils.single_generators import SingleTestGenerator, SingleTrainGenerator"
      ]
    },
    {
      "cell_type": "markdown",
      "metadata": {
        "id": "4NnI4HILJ2pv"
      },
      "source": [
        "## TF datasets"
      ]
    },
    {
      "cell_type": "code",
      "execution_count": null,
      "metadata": {
        "id": "IYOEQso5Jgs5"
      },
      "outputs": [],
      "source": [
        "def single_test():\n",
        "    return SingleTestGenerator(test_set, rng, MAX_NOISE, MNSZ, SIZE)\n",
        "\n",
        "def single_train():\n",
        "    return SingleTrainGenerator(train_set, rng, moirefiles, MAX_NOISE, MNSZ, SIZE)"
      ]
    },
    {
      "cell_type": "code",
      "execution_count": null,
      "metadata": {
        "id": "5_92SuovK26x"
      },
      "outputs": [],
      "source": [
        "dataset_test = tf.data.Dataset.from_generator(\n",
        "    single_test,\n",
        "    output_signature=(\n",
        "        tf.TensorSpec(shape=(SIZE,SIZE,1), dtype=np.float32),\n",
        "        (tf.TensorSpec(shape=(1), dtype=np.float32), tf.TensorSpec(shape=(1,4), dtype=np.float32))\n",
        "    )\n",
        ")\n",
        "dataset_train = tf.data.Dataset.from_generator(\n",
        "    single_train,\n",
        "    output_signature=(\n",
        "        tf.TensorSpec(shape=(SIZE,SIZE,1), dtype=np.float32),\n",
        "        (tf.TensorSpec(shape=(1), dtype=np.float32), tf.TensorSpec(shape=(1,4), dtype=np.float32))\n",
        "    )\n",
        ")"
      ]
    },
    {
      "cell_type": "code",
      "execution_count": null,
      "metadata": {
        "id": "DJJh6YZvK59K"
      },
      "outputs": [],
      "source": [
        "BATCHSIZE = 128"
      ]
    },
    {
      "cell_type": "code",
      "execution_count": null,
      "metadata": {
        "id": "RfA8z_dxK5_0"
      },
      "outputs": [],
      "source": [
        "batched_test = dataset_test.batch(BATCHSIZE)\n",
        "batched_train = dataset_train.batch(BATCHSIZE)"
      ]
    },
    {
      "cell_type": "code",
      "execution_count": null,
      "metadata": {
        "id": "-lR6Ra_AK6Cc"
      },
      "outputs": [],
      "source": [
        "batched_test_iterator = batched_test.as_numpy_iterator()\n",
        "batched_train_iterator = batched_train.as_numpy_iterator()"
      ]
    },
    {
      "cell_type": "markdown",
      "source": [
        "## Model"
      ],
      "metadata": {
        "id": "Bbva2l7ZZvRE"
      }
    },
    {
      "cell_type": "code",
      "execution_count": null,
      "metadata": {
        "id": "9wCRNSCHLH4O"
      },
      "outputs": [],
      "source": [
        "from keras.models import Model, load_model"
      ]
    },
    {
      "cell_type": "code",
      "execution_count": null,
      "metadata": {
        "id": "ixsVF2ghLlnc"
      },
      "outputs": [],
      "source": [
        "from keras.layers import Layer, Conv2D, Flatten, Reshape\n",
        "from keras.layers import Input, Dropout, MaxPooling2D, GlobalAveragePooling2D\n",
        "from keras.layers import ReLU, Dense, Lambda, Concatenate, Cropping2D"
      ]
    },
    {
      "cell_type": "code",
      "source": [
        "class Conv2DPeriodic(Layer):\n",
        "    def __init__(self, filters, kernel_size):\n",
        "        super(Conv2DPeriodic, self).__init__()\n",
        "        margin = (kernel_size[0] - 1) // 2\n",
        "        self.la1 = Lambda(lambda x:x[:,-margin:,:,:])\n",
        "        self.la2 = Lambda(lambda x:x[:,:margin,:,:])\n",
        "        self.conv = Conv2D(filters=filters, kernel_size=kernel_size, padding='same')\n",
        "        self.merge = Concatenate(axis=1)\n",
        "        self.crop = Cropping2D((margin,0))\n",
        "\n",
        "    def call(self, x):\n",
        "        xt = self.la1(x)\n",
        "        xb = self.la2(x)\n",
        "        xe = self.merge([xt,x,xb])\n",
        "        x = self.conv(xe)\n",
        "        x = self.crop(x)\n",
        "        return x"
      ],
      "metadata": {
        "id": "ZJQ8tgfLzuuJ"
      },
      "execution_count": null,
      "outputs": []
    },
    {
      "cell_type": "code",
      "execution_count": null,
      "metadata": {
        "id": "T-PewOBtLlp7"
      },
      "outputs": [],
      "source": [
        "class ContractingBlock(Layer):\n",
        "    def __init__(self, num_channles):\n",
        "        super(ContractingBlock, self).__init__()\n",
        "        self.con1 = Conv2DPeriodic(num_channles, kernel_size=(5,5))\n",
        "        self.con2 = Conv2DPeriodic(num_channles, kernel_size=(5,5))\n",
        "        self.relu = ReLU()\n",
        "        self.pool = MaxPooling2D((2,2))\n",
        "        self.drop = Dropout(0.1)\n",
        "    def call(self, x):\n",
        "        x = self.con1(x)\n",
        "        x = self.relu(x)\n",
        "        x = self.con2(x)\n",
        "        x = self.relu(x)\n",
        "        x = self.pool(x)\n",
        "        x = self.drop(x)\n",
        "        return x"
      ]
    },
    {
      "cell_type": "code",
      "source": [
        "# class ContractingBlock(Layer):\n",
        "#     def __init__(self, num_channles):\n",
        "#         super(ContractingBlock, self).__init__()\n",
        "#         self.con1 = Conv2D(filters=num_channles, kernel_size=(5,5), padding='same', activation='relu')\n",
        "#         self.con2 = Conv2D(filters=num_channles, kernel_size=(5,5), padding='same', activation='relu')\n",
        "#         self.pool = MaxPooling2D((2,2))\n",
        "#         self.drop = Dropout(0.1)\n",
        "#     def call(self, x):\n",
        "#         x = self.con1(x)\n",
        "#         x = self.con2(x)\n",
        "#         x = self.pool(x)\n",
        "#         x = self.drop(x)\n",
        "#         return x"
      ],
      "metadata": {
        "id": "XPj4YSLr6chQ"
      },
      "execution_count": null,
      "outputs": []
    },
    {
      "cell_type": "code",
      "execution_count": null,
      "metadata": {
        "id": "jDEmCocvLH7p"
      },
      "outputs": [],
      "source": [
        "def odmodel(numclass):\n",
        "    inputs = Input((SIZE,SIZE,1))\n",
        "    x = ContractingBlock(8)(inputs)\n",
        "    x = ContractingBlock(16)(x)\n",
        "    x = ContractingBlock(32)(x)\n",
        "    x = ContractingBlock(64)(x)\n",
        "    x = ContractingBlock(128)(x)\n",
        "    y = Flatten()(x)\n",
        "    x = GlobalAveragePooling2D(name='pooling')(x)\n",
        "    x = Dense(128, activation='relu')(x)\n",
        "    outclass = Dense(numclass)(x)\n",
        "    y = Dense(16, activation='relu')(y)\n",
        "    y = Dense(4)(y)\n",
        "    outshape = Reshape((1,-1))(y)\n",
        "    model = Model(inputs=inputs, outputs=[outclass, outshape], name='test')\n",
        "    return model"
      ]
    },
    {
      "cell_type": "code",
      "execution_count": null,
      "metadata": {
        "id": "So98_xP4LH-z"
      },
      "outputs": [],
      "source": [
        "md = odmodel(num_classes)\n",
        "md.summary()"
      ]
    },
    {
      "cell_type": "code",
      "execution_count": null,
      "metadata": {
        "id": "E_8ePuoSVhqF"
      },
      "outputs": [],
      "source": [
        "aa, llbb = next(batched_train_iterator)\n",
        "aa.shape"
      ]
    },
    {
      "cell_type": "code",
      "execution_count": null,
      "metadata": {
        "id": "wWP_aRGRWRK5"
      },
      "outputs": [],
      "source": [
        "ll, bb = llbb\n",
        "ll.shape, bb.shape"
      ]
    },
    {
      "cell_type": "code",
      "execution_count": null,
      "metadata": {
        "id": "UZaccK0PVb6N"
      },
      "outputs": [],
      "source": [
        "resclassaa, resposaa = md(aa, training=False)\n",
        "resclassaa.shape, resposaa.shape"
      ]
    },
    {
      "cell_type": "markdown",
      "metadata": {
        "id": "z3Z2p7ZSUytq"
      },
      "source": [
        "## Training"
      ]
    },
    {
      "cell_type": "code",
      "execution_count": null,
      "metadata": {
        "id": "V6NEzZmhLvsq"
      },
      "outputs": [],
      "source": [
        "from keras.losses import Loss, SparseCategoricalCrossentropy, MeanSquaredError\n",
        "from keras.metrics import SparseCategoricalAccuracy, MeanAbsoluteError\n",
        "from keras.optimizers import Adam"
      ]
    },
    {
      "cell_type": "code",
      "source": [
        "class MeanSquaredErrorPeriodic(Loss):\n",
        "    def __init__(self, size, name=\"mse_periodic\", **kwargs):\n",
        "        super().__init__(name=name, **kwargs)\n",
        "        self.adding = tf.constant([0,size,0,0], dtype=tf.float32)\n",
        "    def call(self, y_true, y_pred):\n",
        "        ydiff = y_pred-y_true\n",
        "        stacked = tf.stack([ydiff, ydiff+self.adding, ydiff-self.adding])\n",
        "        miniz = tf.reduce_min(tf.square(stacked), axis=0)\n",
        "        mse = tf.reduce_mean(miniz)\n",
        "        return mse"
      ],
      "metadata": {
        "id": "kH_wWbS1cr87"
      },
      "execution_count": null,
      "outputs": []
    },
    {
      "cell_type": "code",
      "execution_count": null,
      "metadata": {
        "id": "x29Amvu7McoG"
      },
      "outputs": [],
      "source": [
        "mse_loss = MeanSquaredError()\n",
        "mse_loss_periodic = MeanSquaredErrorPeriodic(SIZE)\n",
        "sprs_loss = SparseCategoricalCrossentropy(from_logits=True)"
      ]
    },
    {
      "cell_type": "code",
      "execution_count": null,
      "metadata": {
        "id": "15afzhslMcq8"
      },
      "outputs": [],
      "source": [
        "mse_metr = MeanAbsoluteError()\n",
        "sprs_metr = SparseCategoricalAccuracy()"
      ]
    },
    {
      "cell_type": "code",
      "execution_count": null,
      "metadata": {
        "id": "jHkaO13zWs1g"
      },
      "outputs": [],
      "source": [
        "sprs_loss(ll, resclassaa), mse_loss(bb, resposaa), mse_loss_periodic(bb, resposaa)"
      ]
    },
    {
      "cell_type": "code",
      "execution_count": null,
      "metadata": {
        "id": "7DKbNwGEMctz"
      },
      "outputs": [],
      "source": [
        "class ModelTrain(Model):\n",
        "    def __init__(self, mdl, **kwargs):\n",
        "        super().__init__(**kwargs)\n",
        "        self.model = mdl\n",
        "\n",
        "    def compile(self, optimizer, lossclass, losspos, metricclass, metricpos, weight, **kwargs):\n",
        "        super().compile(**kwargs)\n",
        "        self.opt = optimizer\n",
        "        self.loss_class = lossclass\n",
        "        self.loss_posit = losspos\n",
        "        self.metr_class = metricclass\n",
        "        self.metr_posit = metricpos\n",
        "        self.w = weight\n",
        "\n",
        "    def train_step(self, batch, **kwargs):\n",
        "        X, y = batch\n",
        "        label, box = y\n",
        "        with tf.GradientTape() as tape:\n",
        "            p = self.model(X)\n",
        "            loss1 = self.loss_class(label, p[0])\n",
        "            loss2 = self.loss_posit(box, p[1])\n",
        "            loss = loss1 + self.w * loss2\n",
        "            grad = tape.gradient(loss, self.model.trainable_variables)\n",
        "        self.opt.apply_gradients(zip(grad, self.model.trainable_variables))\n",
        "        acc1 = self.metr_class(label, p[0])\n",
        "        acc2 = self.metr_posit(box, p[1])\n",
        "        return {\"loss\":loss, \"classloss\":loss1, \"posloss\":loss2, \"classacc\":acc1, \"posacc\":acc2}\n",
        "\n",
        "    def test_step(self, batch, **kwargs):\n",
        "        X, y = batch\n",
        "        label, box = y\n",
        "        p = self.model(X, training=False)\n",
        "        loss1 = self.loss_class(label, p[0])\n",
        "        loss2 = self.loss_posit(box, p[1])\n",
        "        loss = loss1 + self.w * loss2\n",
        "        acc1 = self.metr_class(label, p[0])\n",
        "        acc2 = self.metr_posit(box, p[1])\n",
        "        return {\"loss\":loss, \"classloss\":loss1, \"posloss\":loss2, \"classacc\":acc1, \"posacc\":acc2}\n",
        "\n",
        "    def call(self, X, **kwargs):\n",
        "        return self.model(X, **kwargs)"
      ]
    },
    {
      "cell_type": "code",
      "execution_count": null,
      "metadata": {
        "id": "MYpfoXB5Lvy7"
      },
      "outputs": [],
      "source": [
        "md_train = ModelTrain(md)"
      ]
    },
    {
      "cell_type": "code",
      "execution_count": null,
      "metadata": {
        "id": "e56LK-8MMjrM"
      },
      "outputs": [],
      "source": [
        "md_train.compile(Adam(learning_rate=0.001), sprs_loss, mse_loss, sprs_metr, mse_metr, 0.00001)"
      ]
    },
    {
      "cell_type": "code",
      "source": [
        "md_train.compile(Adam(learning_rate=0.001), sprs_loss, mse_loss_periodic, sprs_metr, mse_metr, 0.00001)"
      ],
      "metadata": {
        "id": "PYRgovi_CmdF"
      },
      "execution_count": null,
      "outputs": []
    },
    {
      "cell_type": "code",
      "source": [
        "md_train.compile(Adam(learning_rate=0.001), sprs_loss, mse_loss_periodic, sprs_metr, mse_metr, 0.0001)"
      ],
      "metadata": {
        "id": "nUdlXk5vHgGc"
      },
      "execution_count": null,
      "outputs": []
    },
    {
      "cell_type": "code",
      "source": [
        "md_train.compile(Adam(learning_rate=0.001), sprs_loss, mse_loss_periodic, sprs_metr, mse_metr, 0.001)"
      ],
      "metadata": {
        "id": "zOf7ExuWO2oD"
      },
      "execution_count": null,
      "outputs": []
    },
    {
      "cell_type": "code",
      "execution_count": null,
      "metadata": {
        "id": "RITXUShJMjtu"
      },
      "outputs": [],
      "source": [
        "md_train.evaluate(batched_test, steps=5)"
      ]
    },
    {
      "cell_type": "code",
      "execution_count": null,
      "metadata": {
        "id": "ayc7uIXQMjwj"
      },
      "outputs": [],
      "source": [
        "history = md_train.fit(\n",
        "    batched_train, steps_per_epoch=120, epochs=20, validation_data=batched_test, validation_steps=1)"
      ]
    },
    {
      "cell_type": "code",
      "execution_count": null,
      "metadata": {
        "id": "2dx5VcU9Lv2m"
      },
      "outputs": [],
      "source": []
    },
    {
      "cell_type": "code",
      "execution_count": null,
      "metadata": {
        "id": "aqs52FSVLv5c"
      },
      "outputs": [],
      "source": [
        "md.save(os.path.join(PATH_TO_MODELS, \"conv_regression_v01\"), \"tf\")"
      ]
    },
    {
      "cell_type": "code",
      "source": [],
      "metadata": {
        "id": "ecw1kmFwdOOp"
      },
      "execution_count": null,
      "outputs": []
    },
    {
      "cell_type": "code",
      "source": [],
      "metadata": {
        "id": "DTQWuS0pT19R"
      },
      "execution_count": null,
      "outputs": []
    },
    {
      "cell_type": "code",
      "source": [
        "resllbb = md(aa, training=False)\n",
        "resclassaa, resposaa = resllbb\n",
        "resclassaa.shape, resposaa.shape"
      ],
      "metadata": {
        "id": "-wcOkSnST1_v"
      },
      "execution_count": null,
      "outputs": []
    },
    {
      "cell_type": "code",
      "source": [
        "import matplotlib.pyplot as plt\n",
        "from matplotlib.patches import Rectangle\n",
        "from math import ceil"
      ],
      "metadata": {
        "id": "p7BYNFtqT4bn"
      },
      "execution_count": null,
      "outputs": []
    },
    {
      "cell_type": "code",
      "source": [
        "def rectangperiodic(bx, edgecolor='r'):\n",
        "    '''\n",
        "    bx -- list of boxes [x, y, w, h]\n",
        "    Outputs list of rectangels considering periodic boundary conditions\n",
        "    '''\n",
        "    res = []\n",
        "    ypos = bx[1] % SIZE\n",
        "    if (ypos + bx[3] < SIZE):\n",
        "        rect = Rectangle((bx[0], ypos), bx[2], bx[3], edgecolor=edgecolor, fill=False)\n",
        "        res.append(rect)\n",
        "    else:\n",
        "        rect = Rectangle((bx[0], ypos), bx[2], SIZE-ypos, edgecolor=edgecolor, fill=False)\n",
        "        res.append(rect)\n",
        "        rect = Rectangle((bx[0], 0), bx[2], ypos+bx[3]-SIZE, edgecolor=edgecolor, fill=False)\n",
        "        res.append(rect)\n",
        "    return res\n",
        "def display_generated(generator, nr, nc, NDIV=13):\n",
        "\n",
        "    PSIZ = SIZE // NDIV\n",
        "\n",
        "    fig, axxes = plt.subplots(ncols=nc,\n",
        "                              nrows=nr,\n",
        "                              figsize=(3*nc, 3*nr),\n",
        "                              sharey=True, sharex=True)\n",
        "\n",
        "    axxes = np.ravel(axxes)\n",
        "\n",
        "    for i, ax in enumerate(axxes):\n",
        "        a, lb = next(generator)\n",
        "        l, b = lb\n",
        "        l = np.squeeze(l).astype(np.int32)\n",
        "\n",
        "        ax.imshow(1-a, aspect=1, cmap='gray', vmin=0, vmax=1)\n",
        "\n",
        "        for bx in b:\n",
        "            rcts = rectangperiodic(bx)\n",
        "            for rct in rcts:\n",
        "                ax.add_patch(rct)\n",
        "\n",
        "        ax.set_yticks(PSIZ*np.arange(0, NDIV+1))\n",
        "        ax.set_xticklabels([])\n",
        "        ax.set_xticks(PSIZ*np.arange(0, NDIV+1))\n",
        "        ax.set_ylim(0,SIZE-1)\n",
        "        ax.set_xlim(0,SIZE-1)\n",
        "        ax.grid(color='g', linestyle='-.', linewidth=0.7, alpha=0.95)\n",
        "        ax.set_title(l)\n",
        "\n",
        "    fig.tight_layout()\n",
        "    plt.show()\n",
        "def display_batch(abatch, lbbatch, nr, nc, NDIV=13):\n",
        "\n",
        "    PSIZ = SIZE // NDIV\n",
        "\n",
        "    fig, axxes = plt.subplots(ncols=nc,\n",
        "                              nrows=nr,\n",
        "                              figsize=(3*nc, 3*nr),\n",
        "                              sharey=True, sharex=True)\n",
        "\n",
        "    ll, bb = lbbatch\n",
        "\n",
        "    axxes = np.ravel(axxes)\n",
        "\n",
        "    for i, ax in enumerate(axxes):\n",
        "        a = abatch[i]\n",
        "        b = bb[i]\n",
        "        if ll.shape[-1]==1:\n",
        "            l = np.squeeze(ll[i]).astype(np.int32)\n",
        "        else:\n",
        "            l = np.argmax(ll[i])\n",
        "\n",
        "        ax.imshow(1-a, aspect=1, cmap='gray', vmin=0, vmax=1)\n",
        "\n",
        "        for bx in b:\n",
        "            rcts = rectangperiodic(bx)\n",
        "            for rct in rcts:\n",
        "                ax.add_patch(rct)\n",
        "\n",
        "        ax.set_yticks(PSIZ*np.arange(0, NDIV+1))\n",
        "        ax.set_xticklabels([])\n",
        "        ax.set_xticks(PSIZ*np.arange(0, NDIV+1))\n",
        "        ax.set_ylim(0,SIZE-1)\n",
        "        ax.set_xlim(0,SIZE-1)\n",
        "        ax.grid(color='g', linestyle='-.', linewidth=0.7, alpha=0.95)\n",
        "        ax.set_title(l)\n",
        "\n",
        "    fig.tight_layout()\n",
        "    plt.show()"
      ],
      "metadata": {
        "id": "frYwzKeJUPfQ"
      },
      "execution_count": null,
      "outputs": []
    },
    {
      "cell_type": "code",
      "source": [
        "display_batch(aa, llbb, 2, 3)"
      ],
      "metadata": {
        "id": "Zfj6s8c-UTwz"
      },
      "execution_count": null,
      "outputs": []
    },
    {
      "cell_type": "code",
      "source": [
        "display_batch(aa, resllbb, 2, 3)"
      ],
      "metadata": {
        "id": "wJwL1gIHUbN2"
      },
      "execution_count": null,
      "outputs": []
    },
    {
      "cell_type": "code",
      "source": [],
      "metadata": {
        "id": "P8LrzvT0UfwE"
      },
      "execution_count": null,
      "outputs": []
    }
  ],
  "metadata": {
    "accelerator": "GPU",
    "colab": {
      "provenance": [],
      "authorship_tag": "ABX9TyP+tN5DmrQlwR8lJINd2/7k",
      "include_colab_link": true
    },
    "kernelspec": {
      "display_name": "Python 3",
      "name": "python3"
    },
    "language_info": {
      "name": "python"
    }
  },
  "nbformat": 4,
  "nbformat_minor": 0
}