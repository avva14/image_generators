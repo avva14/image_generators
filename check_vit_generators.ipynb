{
  "nbformat": 4,
  "nbformat_minor": 0,
  "metadata": {
    "colab": {
      "provenance": [],
      "authorship_tag": "ABX9TyP2t852VWiQxPHia0lpt3Ms",
      "include_colab_link": true
    },
    "kernelspec": {
      "name": "python3",
      "display_name": "Python 3"
    },
    "language_info": {
      "name": "python"
    }
  },
  "cells": [
    {
      "cell_type": "markdown",
      "metadata": {
        "id": "view-in-github",
        "colab_type": "text"
      },
      "source": [
        "<a href=\"https://colab.research.google.com/github/avva14/image_generators/blob/main/check_vit_generators.ipynb\" target=\"_parent\"><img src=\"https://colab.research.google.com/assets/colab-badge.svg\" alt=\"Open In Colab\"/></a>"
      ]
    },
    {
      "cell_type": "markdown",
      "source": [
        "## Imports"
      ],
      "metadata": {
        "id": "Er7gJk-Tw31t"
      }
    },
    {
      "cell_type": "code",
      "source": [
        "!pip install pillow --upgrade"
      ],
      "metadata": {
        "id": "L9EEFEAZmuVd"
      },
      "execution_count": null,
      "outputs": []
    },
    {
      "cell_type": "code",
      "execution_count": null,
      "metadata": {
        "id": "xgLRjHYhhwhk"
      },
      "outputs": [],
      "source": [
        "!git clone https://github.com/avva14/common_utils.git"
      ]
    },
    {
      "cell_type": "code",
      "source": [
        "from google.colab import drive\n",
        "drive.mount('/content/gdrive')"
      ],
      "metadata": {
        "id": "PBIsptj3ptdR"
      },
      "execution_count": null,
      "outputs": []
    },
    {
      "cell_type": "code",
      "source": [
        "PATH_TO_TFDS = '/content/gdrive/MyDrive/tensorflow_datasets'\n",
        "PATH_TO_MOIRE = '/content/gdrive/MyDrive/Patterns/moiredata'"
      ],
      "metadata": {
        "id": "bowlczK_pvhb"
      },
      "execution_count": null,
      "outputs": []
    },
    {
      "cell_type": "code",
      "source": [
        "import os\n",
        "import numpy as np\n",
        "import cv2 as cv"
      ],
      "metadata": {
        "id": "BJ1YxbXah8Is"
      },
      "execution_count": null,
      "outputs": []
    },
    {
      "cell_type": "code",
      "source": [
        "import zipfile\n",
        "from zipfile import ZipFile"
      ],
      "metadata": {
        "id": "acFrcEfwiM-V"
      },
      "execution_count": null,
      "outputs": []
    },
    {
      "cell_type": "code",
      "source": [
        "import matplotlib.pyplot as plt\n",
        "from matplotlib.colors import ListedColormap\n",
        "from math import ceil"
      ],
      "metadata": {
        "id": "FohvQyCnmfkd"
      },
      "execution_count": null,
      "outputs": []
    },
    {
      "cell_type": "code",
      "source": [
        "import tensorflow as tf\n",
        "import tensorflow_datasets as tfds"
      ],
      "metadata": {
        "id": "IK4WJfoGiR2t"
      },
      "execution_count": null,
      "outputs": []
    },
    {
      "cell_type": "markdown",
      "source": [
        "## Display utils"
      ],
      "metadata": {
        "id": "coNVfSMNw_ki"
      }
    },
    {
      "cell_type": "code",
      "source": [
        "def display_generated(generator, nr, nc):\n",
        "\n",
        "    fig, axxes = plt.subplots(ncols=2*nc,\n",
        "                              nrows=nr,\n",
        "                              figsize=(6*nc, 3*nr),\n",
        "                              sharey=False, sharex=False)\n",
        "\n",
        "    axxes = np.ravel(axxes)\n",
        "\n",
        "    for i, ax in enumerate(axxes):\n",
        "\n",
        "        if i % 2 == 0:\n",
        "            a, m = next(generator)\n",
        "\n",
        "            k = np.any(m[:,1:], axis=-1) * (np.argmax(m[:,1:], axis=-1) + 1)\n",
        "            f = np.max(m[:,1:], axis=-1)\n",
        "\n",
        "            m = m.astype(np.int32)\n",
        "            ax.imshow(1-a, aspect=1, cmap='gray', vmin=0, vmax=1)\n",
        "\n",
        "            ixes = np.where(k > 0)[0]\n",
        "            ax.scatter(PSIZ*(ixes % NDIV) + PSIZ//2, PSIZ*(ixes // NDIV) + PSIZ//2, s=2)\n",
        "\n",
        "            ax.set_yticks(PSIZ*np.arange(0, NDIV+1))\n",
        "            ax.set_xticks(PSIZ*np.arange(0, NDIV+1))\n",
        "            ax.set_ylim(0,SIZE-1)\n",
        "            ax.set_xlim(0,SIZE-1)\n",
        "            ax.grid(color='g', linestyle='-.', linewidth=0.7, alpha=0.95)\n",
        "        else:\n",
        "            ax.scatter(PSIZ*(ixes % NDIV) + PSIZ//2, PSIZ*(ixes // NDIV) + PSIZ//2, s=2)\n",
        "\n",
        "            for p in ixes:\n",
        "                ax.text((p%NDIV)+0.3,(p//NDIV)+0.3,f'{k[p]-1}',alpha=f[p])\n",
        "\n",
        "            ax.set_yticks(np.arange(0, NDIV+1))\n",
        "            ax.set_xticks(np.arange(0, NDIV+1))\n",
        "            ax.set_ylim(0,NDIV)\n",
        "            ax.set_xlim(0,NDIV)\n",
        "            ax.grid(color='g', linestyle='-.', linewidth=0.7, alpha=0.95)\n",
        "\n",
        "    fig.tight_layout()\n",
        "    plt.show()\n",
        "\n",
        "def display_batch(abatch, mbatch, nr, nc):\n",
        "\n",
        "    fig, axxes = plt.subplots(ncols=2*nc,\n",
        "                              nrows=nr,\n",
        "                              figsize=(6*nc, 3*nr),\n",
        "                              sharey=False, sharex=False)\n",
        "\n",
        "    axxes = np.ravel(axxes)\n",
        "\n",
        "    for i, ax in enumerate(axxes):\n",
        "\n",
        "        if i % 2 == 0:\n",
        "            j = i // 2\n",
        "            a = abatch[j]\n",
        "            m = mbatch[j]\n",
        "\n",
        "            k = np.any(m[:,1:], axis=-1) * (np.argmax(m[:,1:], axis=-1) + 1)\n",
        "            f = np.max(m[:,1:], axis=-1)\n",
        "\n",
        "            m = m.astype(np.int32)\n",
        "            ax.imshow(1-a, aspect=1, cmap='gray', vmin=0, vmax=1)\n",
        "\n",
        "            ixes = np.where(k > 0)[0]\n",
        "            ax.scatter(PSIZ*(ixes % NDIV) + PSIZ//2, PSIZ*(ixes // NDIV) + PSIZ//2, s=2)\n",
        "\n",
        "            ax.set_yticks(PSIZ*np.arange(0, NDIV+1))\n",
        "            ax.set_xticks(PSIZ*np.arange(0, NDIV+1))\n",
        "            ax.set_ylim(0,SIZE-1)\n",
        "            ax.set_xlim(0,SIZE-1)\n",
        "            ax.grid(color='g', linestyle='-.', linewidth=0.7, alpha=0.95)\n",
        "        else:\n",
        "            ax.scatter(PSIZ*(ixes % NDIV) + PSIZ//2, PSIZ*(ixes // NDIV) + PSIZ//2, s=2)\n",
        "\n",
        "            for p in ixes:\n",
        "                ax.text((p%NDIV)+0.3,(p//NDIV)+0.3,f'{k[p]-1}',alpha=f[p])\n",
        "\n",
        "            ax.set_yticks(np.arange(0, NDIV+1))\n",
        "            ax.set_xticks(np.arange(0, NDIV+1))\n",
        "            ax.set_ylim(0,NDIV)\n",
        "            ax.set_xlim(0,NDIV)\n",
        "            ax.grid(color='g', linestyle='-.', linewidth=0.7, alpha=0.95)\n",
        "\n",
        "    fig.tight_layout()\n",
        "    plt.show()"
      ],
      "metadata": {
        "id": "qx6UONTFpC9O"
      },
      "execution_count": null,
      "outputs": []
    },
    {
      "cell_type": "markdown",
      "source": [
        "## Parameters"
      ],
      "metadata": {
        "id": "h3bIE_OwxLDc"
      }
    },
    {
      "cell_type": "code",
      "source": [
        "ds = tfds.load('mnist', data_dir=PATH_TO_TFDS, download=False, split=['train', 'test'], shuffle_files=True)\n",
        "train_set = ds[0].cache().shuffle(1024).repeat().as_numpy_iterator()\n",
        "test_set = ds[1].cache().repeat().as_numpy_iterator()"
      ],
      "metadata": {
        "id": "hk22FshyiUHF"
      },
      "execution_count": null,
      "outputs": []
    },
    {
      "cell_type": "code",
      "source": [
        "rng = np.random.RandomState(1)"
      ],
      "metadata": {
        "id": "dBIpHm4xiYWD"
      },
      "execution_count": null,
      "outputs": []
    },
    {
      "cell_type": "code",
      "source": [
        "SIZE = 416\n",
        "MNSZ = 28\n",
        "NDIV = 16\n",
        "NDIV2 = NDIV*NDIV\n",
        "PSIZ = SIZE // NDIV\n",
        "MAX_NOISE = 0.5\n",
        "num_classes = 10"
      ],
      "metadata": {
        "id": "ROlY5xezifzI"
      },
      "execution_count": null,
      "outputs": []
    },
    {
      "cell_type": "code",
      "source": [
        "moirefiles = [os.path.join(PATH_TO_MOIRE, f) for f in os.listdir(PATH_TO_MOIRE)]"
      ],
      "metadata": {
        "id": "gx9hLdHUpULW"
      },
      "execution_count": null,
      "outputs": []
    },
    {
      "cell_type": "code",
      "source": [
        "from common_utils.vit_generators import VitTrainGenerator, VitTestGenerator"
      ],
      "metadata": {
        "id": "15tSfaBwiiKn"
      },
      "execution_count": null,
      "outputs": []
    },
    {
      "cell_type": "code",
      "source": [],
      "metadata": {
        "id": "XIsD1288xHHv"
      },
      "execution_count": null,
      "outputs": []
    },
    {
      "cell_type": "markdown",
      "source": [
        "## Test generator"
      ],
      "metadata": {
        "id": "97R0f8QmxXLq"
      }
    },
    {
      "cell_type": "code",
      "source": [
        "testd = VitTestGenerator(test_set, rng, 2, num_classes, MAX_NOISE, MNSZ, SIZE, NDIV)"
      ],
      "metadata": {
        "id": "StLssHpsiuy4"
      },
      "execution_count": null,
      "outputs": []
    },
    {
      "cell_type": "code",
      "source": [
        "%%time\n",
        "for _ in range(100):\n",
        "    a, m = next(testd)\n",
        "a.shape, m.shape"
      ],
      "metadata": {
        "id": "dtiiQ7jpmXVd"
      },
      "execution_count": null,
      "outputs": []
    },
    {
      "cell_type": "code",
      "source": [],
      "metadata": {
        "id": "GTF7x5oFpFxG"
      },
      "execution_count": null,
      "outputs": []
    },
    {
      "cell_type": "code",
      "source": [
        "display_generated(testd, 2, 4)"
      ],
      "metadata": {
        "id": "-zCBpxvIpPU1"
      },
      "execution_count": null,
      "outputs": []
    },
    {
      "cell_type": "markdown",
      "source": [
        "## Train generator"
      ],
      "metadata": {
        "id": "oj0spMXexbNX"
      }
    },
    {
      "cell_type": "code",
      "source": [
        "traind = VitTrainGenerator(train_set, rng, 3, num_classes, moirefiles, MAX_NOISE, MNSZ, SIZE, NDIV)"
      ],
      "metadata": {
        "id": "hEZEs5PHrPOW"
      },
      "execution_count": null,
      "outputs": []
    },
    {
      "cell_type": "code",
      "source": [
        "%%time\n",
        "for _ in range(100):\n",
        "    a, m = next(traind)\n",
        "a.shape, m.shape"
      ],
      "metadata": {
        "id": "OofJjlT7rPRH"
      },
      "execution_count": null,
      "outputs": []
    },
    {
      "cell_type": "code",
      "source": [
        "display_generated(traind, 2, 4)"
      ],
      "metadata": {
        "id": "FRITEaOBrsrL"
      },
      "execution_count": null,
      "outputs": []
    },
    {
      "cell_type": "code",
      "source": [],
      "metadata": {
        "id": "vb7YTbD6sNM9"
      },
      "execution_count": null,
      "outputs": []
    },
    {
      "cell_type": "code",
      "source": [],
      "metadata": {
        "id": "zAMvffowsnsl"
      },
      "execution_count": null,
      "outputs": []
    },
    {
      "cell_type": "markdown",
      "source": [
        "## TF datasets"
      ],
      "metadata": {
        "id": "GWD67hA9xhwW"
      }
    },
    {
      "cell_type": "code",
      "source": [
        "def ugen_test():\n",
        "    return VitTestGenerator(test_set, rng, 2, num_classes, MAX_NOISE, MNSZ, SIZE, NDIV)\n",
        "def ugen_train():\n",
        "    return VitTrainGenerator(train_set, rng, 3, num_classes, moirefiles, MAX_NOISE, MNSZ, SIZE, NDIV)"
      ],
      "metadata": {
        "id": "Tm_f06CLsnvd"
      },
      "execution_count": null,
      "outputs": []
    },
    {
      "cell_type": "code",
      "source": [],
      "metadata": {
        "id": "rmr-gGvy1iFB"
      },
      "execution_count": null,
      "outputs": []
    },
    {
      "cell_type": "code",
      "source": [
        "dataset_test = tf.data.Dataset.from_generator(\n",
        "    ugen_test,\n",
        "    output_signature=(\n",
        "        tf.TensorSpec(shape=(SIZE,SIZE,1), dtype=np.float32),\n",
        "        tf.TensorSpec(shape=(NDIV2,num_classes+1), dtype=np.float32)\n",
        "    )\n",
        ")\n",
        "dataset_train = tf.data.Dataset.from_generator(\n",
        "    ugen_train,\n",
        "    output_signature=(\n",
        "        tf.TensorSpec(shape=(SIZE,SIZE,1), dtype=np.float32),\n",
        "        tf.TensorSpec(shape=(NDIV2,num_classes+1), dtype=np.float32)\n",
        "    )\n",
        ")"
      ],
      "metadata": {
        "id": "olZc4AQnsoOF"
      },
      "execution_count": null,
      "outputs": []
    },
    {
      "cell_type": "code",
      "source": [
        "BATCHSIZE = 64"
      ],
      "metadata": {
        "id": "0FIyW3E1svD9"
      },
      "execution_count": null,
      "outputs": []
    },
    {
      "cell_type": "code",
      "source": [
        "batched_test = dataset_test.batch(BATCHSIZE)\n",
        "batched_train = dataset_train.batch(BATCHSIZE)"
      ],
      "metadata": {
        "id": "dBvWC1q0s0GN"
      },
      "execution_count": null,
      "outputs": []
    },
    {
      "cell_type": "code",
      "source": [
        "batched_test_iterator = batched_test.as_numpy_iterator()\n",
        "batched_train_iterator = batched_train.as_numpy_iterator()"
      ],
      "metadata": {
        "id": "JVHSFpnCs5Oi"
      },
      "execution_count": null,
      "outputs": []
    },
    {
      "cell_type": "code",
      "source": [
        "aa, mm = batched_test_iterator.next()\n",
        "aa.shape, mm.shape"
      ],
      "metadata": {
        "id": "Cq0kTcPztBWE"
      },
      "execution_count": null,
      "outputs": []
    },
    {
      "cell_type": "code",
      "source": [
        "display_batch(aa, mm, 2, 4)"
      ],
      "metadata": {
        "id": "ZG3GeHDntGFd"
      },
      "execution_count": null,
      "outputs": []
    },
    {
      "cell_type": "code",
      "source": [],
      "metadata": {
        "id": "QR9RSA1Xv9XE"
      },
      "execution_count": null,
      "outputs": []
    },
    {
      "cell_type": "code",
      "source": [
        "aa, mm = batched_train_iterator.next()\n",
        "aa.shape, mm.shape"
      ],
      "metadata": {
        "id": "4dQkMM3s13Bl"
      },
      "execution_count": null,
      "outputs": []
    },
    {
      "cell_type": "code",
      "source": [
        "display_batch(aa, mm, 2, 4)"
      ],
      "metadata": {
        "id": "UY0D6_BA14R9"
      },
      "execution_count": null,
      "outputs": []
    },
    {
      "cell_type": "code",
      "source": [],
      "metadata": {
        "id": "9oJizXCC4XE1"
      },
      "execution_count": null,
      "outputs": []
    }
  ]
}